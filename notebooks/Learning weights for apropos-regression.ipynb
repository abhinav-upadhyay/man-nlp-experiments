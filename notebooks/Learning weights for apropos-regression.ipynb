{
 "cells": [
  {
   "cell_type": "code",
   "execution_count": 1,
   "metadata": {
    "collapsed": false
   },
   "outputs": [],
   "source": [
    "import numpy as np\n",
    "import pandas as pd\n",
    "import seaborn as sns\n",
    "%matplotlib inline"
   ]
  },
  {
   "cell_type": "code",
   "execution_count": 2,
   "metadata": {
    "collapsed": true
   },
   "outputs": [],
   "source": [
    "data = pd.read_csv('../data/newst_data.csv')"
   ]
  },
  {
   "cell_type": "code",
   "execution_count": 3,
   "metadata": {
    "collapsed": true
   },
   "outputs": [],
   "source": [
    "data[\"query\"] = data[\"query\"].astype(\"category\")\n",
    "data[\"w_doclen\"] = data[\"w_doclen\"].astype(\"int\")\n",
    "data[\"section\"] = data[\"section\"].astype(\"category\")\n",
    "data[\"name\"] = data[\"name\"].astype(\"category\")\n",
    "data[\"section\"] = data[\"section\"].cat.codes\n",
    "#data[\"relevance\"] = data[\"relevance\"].astype(\"int\")\n",
    "#data.relevance[data.relevance <= 1] = 0\n",
    "#data.relevance[data.relevance == 2] = 1\n",
    "#data.relevance[data.relevance >= 2] = 1\n",
    "data[\"rank\"] = data[\"rank\"].astype(\"category\")\n"
   ]
  },
  {
   "cell_type": "code",
   "execution_count": 4,
   "metadata": {
    "collapsed": false
   },
   "outputs": [
    {
     "data": {
      "text/html": [
       "<div>\n",
       "<table border=\"1\" class=\"dataframe\">\n",
       "  <thead>\n",
       "    <tr style=\"text-align: right;\">\n",
       "      <th></th>\n",
       "      <th>section</th>\n",
       "      <th>indegree</th>\n",
       "      <th>outdegree</th>\n",
       "      <th>w_name</th>\n",
       "      <th>w_name_desc</th>\n",
       "      <th>w_desc</th>\n",
       "      <th>w_lib</th>\n",
       "      <th>w_return_vals</th>\n",
       "      <th>w_env</th>\n",
       "      <th>w_files</th>\n",
       "      <th>w_exit_status</th>\n",
       "      <th>w_diagnostics</th>\n",
       "      <th>w_errors</th>\n",
       "      <th>w_special_keywords</th>\n",
       "      <th>w_xr_context</th>\n",
       "      <th>w_machine</th>\n",
       "      <th>w_doclen</th>\n",
       "      <th>w_total</th>\n",
       "    </tr>\n",
       "  </thead>\n",
       "  <tbody>\n",
       "    <tr>\n",
       "      <th>count</th>\n",
       "      <td>2448.000000</td>\n",
       "      <td>2448.000000</td>\n",
       "      <td>2448.000000</td>\n",
       "      <td>2448.000000</td>\n",
       "      <td>2448.000000</td>\n",
       "      <td>2448.000000</td>\n",
       "      <td>2448.000000</td>\n",
       "      <td>2448.000000</td>\n",
       "      <td>2448.000000</td>\n",
       "      <td>2448.000000</td>\n",
       "      <td>2448.000000</td>\n",
       "      <td>2448.000000</td>\n",
       "      <td>2448.000000</td>\n",
       "      <td>2448.000000</td>\n",
       "      <td>2448.000000</td>\n",
       "      <td>2448.000000</td>\n",
       "      <td>2448.000000</td>\n",
       "      <td>2448.000000</td>\n",
       "    </tr>\n",
       "    <tr>\n",
       "      <th>mean</th>\n",
       "      <td>3.996324</td>\n",
       "      <td>13.892157</td>\n",
       "      <td>13.503676</td>\n",
       "      <td>0.608854</td>\n",
       "      <td>0.591422</td>\n",
       "      <td>0.503225</td>\n",
       "      <td>0.503276</td>\n",
       "      <td>0.511072</td>\n",
       "      <td>0.503371</td>\n",
       "      <td>0.515782</td>\n",
       "      <td>0.508199</td>\n",
       "      <td>0.502594</td>\n",
       "      <td>0.504132</td>\n",
       "      <td>0.514202</td>\n",
       "      <td>0.506785</td>\n",
       "      <td>0.500204</td>\n",
       "      <td>2524.439134</td>\n",
       "      <td>0.627022</td>\n",
       "    </tr>\n",
       "    <tr>\n",
       "      <th>std</th>\n",
       "      <td>3.173821</td>\n",
       "      <td>33.927249</td>\n",
       "      <td>36.235223</td>\n",
       "      <td>0.205312</td>\n",
       "      <td>0.152930</td>\n",
       "      <td>0.012224</td>\n",
       "      <td>0.038461</td>\n",
       "      <td>0.056123</td>\n",
       "      <td>0.030938</td>\n",
       "      <td>0.070103</td>\n",
       "      <td>0.056711</td>\n",
       "      <td>0.025998</td>\n",
       "      <td>0.028089</td>\n",
       "      <td>0.055809</td>\n",
       "      <td>0.035020</td>\n",
       "      <td>0.010106</td>\n",
       "      <td>8786.578076</td>\n",
       "      <td>0.005660</td>\n",
       "    </tr>\n",
       "    <tr>\n",
       "      <th>min</th>\n",
       "      <td>0.000000</td>\n",
       "      <td>0.000000</td>\n",
       "      <td>0.000000</td>\n",
       "      <td>0.500000</td>\n",
       "      <td>0.500000</td>\n",
       "      <td>0.500000</td>\n",
       "      <td>0.500000</td>\n",
       "      <td>0.500000</td>\n",
       "      <td>0.500000</td>\n",
       "      <td>0.500000</td>\n",
       "      <td>0.500000</td>\n",
       "      <td>0.500000</td>\n",
       "      <td>0.500000</td>\n",
       "      <td>0.500000</td>\n",
       "      <td>0.500000</td>\n",
       "      <td>0.500000</td>\n",
       "      <td>22.000000</td>\n",
       "      <td>0.622459</td>\n",
       "    </tr>\n",
       "    <tr>\n",
       "      <th>25%</th>\n",
       "      <td>2.000000</td>\n",
       "      <td>1.000000</td>\n",
       "      <td>0.000000</td>\n",
       "      <td>0.500000</td>\n",
       "      <td>0.500000</td>\n",
       "      <td>0.500314</td>\n",
       "      <td>0.500000</td>\n",
       "      <td>0.500000</td>\n",
       "      <td>0.500000</td>\n",
       "      <td>0.500000</td>\n",
       "      <td>0.500000</td>\n",
       "      <td>0.500000</td>\n",
       "      <td>0.500000</td>\n",
       "      <td>0.500000</td>\n",
       "      <td>0.500000</td>\n",
       "      <td>0.500000</td>\n",
       "      <td>228.750000</td>\n",
       "      <td>0.622504</td>\n",
       "    </tr>\n",
       "    <tr>\n",
       "      <th>50%</th>\n",
       "      <td>4.000000</td>\n",
       "      <td>4.000000</td>\n",
       "      <td>5.000000</td>\n",
       "      <td>0.500000</td>\n",
       "      <td>0.500000</td>\n",
       "      <td>0.500943</td>\n",
       "      <td>0.500000</td>\n",
       "      <td>0.500000</td>\n",
       "      <td>0.500000</td>\n",
       "      <td>0.500000</td>\n",
       "      <td>0.500000</td>\n",
       "      <td>0.500000</td>\n",
       "      <td>0.500000</td>\n",
       "      <td>0.500000</td>\n",
       "      <td>0.500000</td>\n",
       "      <td>0.500000</td>\n",
       "      <td>589.500000</td>\n",
       "      <td>0.624363</td>\n",
       "    </tr>\n",
       "    <tr>\n",
       "      <th>75%</th>\n",
       "      <td>8.000000</td>\n",
       "      <td>13.000000</td>\n",
       "      <td>11.000000</td>\n",
       "      <td>0.500000</td>\n",
       "      <td>0.646715</td>\n",
       "      <td>0.502740</td>\n",
       "      <td>0.500000</td>\n",
       "      <td>0.500000</td>\n",
       "      <td>0.500000</td>\n",
       "      <td>0.500000</td>\n",
       "      <td>0.500000</td>\n",
       "      <td>0.500000</td>\n",
       "      <td>0.500000</td>\n",
       "      <td>0.503043</td>\n",
       "      <td>0.500000</td>\n",
       "      <td>0.500000</td>\n",
       "      <td>1754.250000</td>\n",
       "      <td>0.630819</td>\n",
       "    </tr>\n",
       "    <tr>\n",
       "      <th>max</th>\n",
       "      <td>10.000000</td>\n",
       "      <td>394.000000</td>\n",
       "      <td>355.000000</td>\n",
       "      <td>1.000000</td>\n",
       "      <td>1.000000</td>\n",
       "      <td>0.938770</td>\n",
       "      <td>0.999980</td>\n",
       "      <td>1.000000</td>\n",
       "      <td>0.995826</td>\n",
       "      <td>1.000000</td>\n",
       "      <td>1.000000</td>\n",
       "      <td>0.998989</td>\n",
       "      <td>0.910067</td>\n",
       "      <td>0.998759</td>\n",
       "      <td>0.989540</td>\n",
       "      <td>1.000000</td>\n",
       "      <td>113084.000000</td>\n",
       "      <td>0.660942</td>\n",
       "    </tr>\n",
       "  </tbody>\n",
       "</table>\n",
       "</div>"
      ],
      "text/plain": [
       "           section     indegree    outdegree       w_name  w_name_desc  \\\n",
       "count  2448.000000  2448.000000  2448.000000  2448.000000  2448.000000   \n",
       "mean      3.996324    13.892157    13.503676     0.608854     0.591422   \n",
       "std       3.173821    33.927249    36.235223     0.205312     0.152930   \n",
       "min       0.000000     0.000000     0.000000     0.500000     0.500000   \n",
       "25%       2.000000     1.000000     0.000000     0.500000     0.500000   \n",
       "50%       4.000000     4.000000     5.000000     0.500000     0.500000   \n",
       "75%       8.000000    13.000000    11.000000     0.500000     0.646715   \n",
       "max      10.000000   394.000000   355.000000     1.000000     1.000000   \n",
       "\n",
       "            w_desc        w_lib  w_return_vals        w_env      w_files  \\\n",
       "count  2448.000000  2448.000000    2448.000000  2448.000000  2448.000000   \n",
       "mean      0.503225     0.503276       0.511072     0.503371     0.515782   \n",
       "std       0.012224     0.038461       0.056123     0.030938     0.070103   \n",
       "min       0.500000     0.500000       0.500000     0.500000     0.500000   \n",
       "25%       0.500314     0.500000       0.500000     0.500000     0.500000   \n",
       "50%       0.500943     0.500000       0.500000     0.500000     0.500000   \n",
       "75%       0.502740     0.500000       0.500000     0.500000     0.500000   \n",
       "max       0.938770     0.999980       1.000000     0.995826     1.000000   \n",
       "\n",
       "       w_exit_status  w_diagnostics     w_errors  w_special_keywords  \\\n",
       "count    2448.000000    2448.000000  2448.000000         2448.000000   \n",
       "mean        0.508199       0.502594     0.504132            0.514202   \n",
       "std         0.056711       0.025998     0.028089            0.055809   \n",
       "min         0.500000       0.500000     0.500000            0.500000   \n",
       "25%         0.500000       0.500000     0.500000            0.500000   \n",
       "50%         0.500000       0.500000     0.500000            0.500000   \n",
       "75%         0.500000       0.500000     0.500000            0.503043   \n",
       "max         1.000000       0.998989     0.910067            0.998759   \n",
       "\n",
       "       w_xr_context    w_machine       w_doclen      w_total  \n",
       "count   2448.000000  2448.000000    2448.000000  2448.000000  \n",
       "mean       0.506785     0.500204    2524.439134     0.627022  \n",
       "std        0.035020     0.010106    8786.578076     0.005660  \n",
       "min        0.500000     0.500000      22.000000     0.622459  \n",
       "25%        0.500000     0.500000     228.750000     0.622504  \n",
       "50%        0.500000     0.500000     589.500000     0.624363  \n",
       "75%        0.500000     0.500000    1754.250000     0.630819  \n",
       "max        0.989540     1.000000  113084.000000     0.660942  "
      ]
     },
     "execution_count": 4,
     "metadata": {},
     "output_type": "execute_result"
    }
   ],
   "source": [
    "data.describe()"
   ]
  },
  {
   "cell_type": "code",
   "execution_count": 5,
   "metadata": {
    "collapsed": false
   },
   "outputs": [
    {
     "name": "stdout",
     "output_type": "stream",
     "text": [
      "Index(['query', 'name', 'section', 'rank', 'indegree', 'outdegree', 'w_name',\n",
      "       'w_name_desc', 'w_desc', 'w_lib', 'w_return_vals', 'w_env', 'w_files',\n",
      "       'w_exit_status', 'w_diagnostics', 'w_errors', 'w_special_keywords',\n",
      "       'w_xr_context', 'w_machine', 'w_doclen', 'w_total'],\n",
      "      dtype='object')\n"
     ]
    }
   ],
   "source": [
    "print(data.columns)"
   ]
  },
  {
   "cell_type": "code",
   "execution_count": 6,
   "metadata": {
    "collapsed": false
   },
   "outputs": [],
   "source": [
    "data = data.drop(labels=['w_machine'], axis=1)"
   ]
  },
  {
   "cell_type": "code",
   "execution_count": 7,
   "metadata": {
    "collapsed": false
   },
   "outputs": [],
   "source": [
    "# Set w_total = 0.68 for rank = 4, 0.60 for rank = 0, 0.62 for rank = 1, 0.64 for rank =2, 0.66 for rank = 3\n",
    "data.loc[data['rank'] == 4, 'w_total'] = 0.67\n",
    "#data.loc[data['rank'] == 3, 'w_total'] = 1.0\n",
    "#data.loc[data['rank'] == 2, 'w_total'] = 0.50\n",
    "#data.loc[data['rank'] == 1, 'w_total'] = 0.10\n",
    "data.loc[data['rank'] == 0, 'w_total'] = 0.62"
   ]
  },
  {
   "cell_type": "code",
   "execution_count": 8,
   "metadata": {
    "collapsed": false
   },
   "outputs": [
    {
     "data": {
      "text/html": [
       "<div>\n",
       "<table border=\"1\" class=\"dataframe\">\n",
       "  <thead>\n",
       "    <tr style=\"text-align: right;\">\n",
       "      <th></th>\n",
       "      <th>section</th>\n",
       "      <th>indegree</th>\n",
       "      <th>outdegree</th>\n",
       "      <th>w_name</th>\n",
       "      <th>w_name_desc</th>\n",
       "      <th>w_desc</th>\n",
       "      <th>w_lib</th>\n",
       "      <th>w_return_vals</th>\n",
       "      <th>w_env</th>\n",
       "      <th>w_files</th>\n",
       "      <th>w_exit_status</th>\n",
       "      <th>w_diagnostics</th>\n",
       "      <th>w_errors</th>\n",
       "      <th>w_special_keywords</th>\n",
       "      <th>w_xr_context</th>\n",
       "      <th>w_doclen</th>\n",
       "      <th>w_total</th>\n",
       "    </tr>\n",
       "  </thead>\n",
       "  <tbody>\n",
       "    <tr>\n",
       "      <th>count</th>\n",
       "      <td>2448.000000</td>\n",
       "      <td>2448.000000</td>\n",
       "      <td>2448.000000</td>\n",
       "      <td>2448.000000</td>\n",
       "      <td>2448.000000</td>\n",
       "      <td>2448.000000</td>\n",
       "      <td>2448.000000</td>\n",
       "      <td>2448.000000</td>\n",
       "      <td>2448.000000</td>\n",
       "      <td>2448.000000</td>\n",
       "      <td>2448.000000</td>\n",
       "      <td>2448.000000</td>\n",
       "      <td>2448.000000</td>\n",
       "      <td>2448.000000</td>\n",
       "      <td>2448.000000</td>\n",
       "      <td>2448.000000</td>\n",
       "      <td>2448.000000</td>\n",
       "    </tr>\n",
       "    <tr>\n",
       "      <th>mean</th>\n",
       "      <td>3.996324</td>\n",
       "      <td>13.892157</td>\n",
       "      <td>13.503676</td>\n",
       "      <td>0.608854</td>\n",
       "      <td>0.591422</td>\n",
       "      <td>0.503225</td>\n",
       "      <td>0.503276</td>\n",
       "      <td>0.511072</td>\n",
       "      <td>0.503371</td>\n",
       "      <td>0.515782</td>\n",
       "      <td>0.508199</td>\n",
       "      <td>0.502594</td>\n",
       "      <td>0.504132</td>\n",
       "      <td>0.514202</td>\n",
       "      <td>0.506785</td>\n",
       "      <td>2524.439134</td>\n",
       "      <td>0.635860</td>\n",
       "    </tr>\n",
       "    <tr>\n",
       "      <th>std</th>\n",
       "      <td>3.173821</td>\n",
       "      <td>33.927249</td>\n",
       "      <td>36.235223</td>\n",
       "      <td>0.205312</td>\n",
       "      <td>0.152930</td>\n",
       "      <td>0.012224</td>\n",
       "      <td>0.038461</td>\n",
       "      <td>0.056123</td>\n",
       "      <td>0.030938</td>\n",
       "      <td>0.070103</td>\n",
       "      <td>0.056711</td>\n",
       "      <td>0.025998</td>\n",
       "      <td>0.028089</td>\n",
       "      <td>0.055809</td>\n",
       "      <td>0.035020</td>\n",
       "      <td>8786.578076</td>\n",
       "      <td>0.019970</td>\n",
       "    </tr>\n",
       "    <tr>\n",
       "      <th>min</th>\n",
       "      <td>0.000000</td>\n",
       "      <td>0.000000</td>\n",
       "      <td>0.000000</td>\n",
       "      <td>0.500000</td>\n",
       "      <td>0.500000</td>\n",
       "      <td>0.500000</td>\n",
       "      <td>0.500000</td>\n",
       "      <td>0.500000</td>\n",
       "      <td>0.500000</td>\n",
       "      <td>0.500000</td>\n",
       "      <td>0.500000</td>\n",
       "      <td>0.500000</td>\n",
       "      <td>0.500000</td>\n",
       "      <td>0.500000</td>\n",
       "      <td>0.500000</td>\n",
       "      <td>22.000000</td>\n",
       "      <td>0.620000</td>\n",
       "    </tr>\n",
       "    <tr>\n",
       "      <th>25%</th>\n",
       "      <td>2.000000</td>\n",
       "      <td>1.000000</td>\n",
       "      <td>0.000000</td>\n",
       "      <td>0.500000</td>\n",
       "      <td>0.500000</td>\n",
       "      <td>0.500314</td>\n",
       "      <td>0.500000</td>\n",
       "      <td>0.500000</td>\n",
       "      <td>0.500000</td>\n",
       "      <td>0.500000</td>\n",
       "      <td>0.500000</td>\n",
       "      <td>0.500000</td>\n",
       "      <td>0.500000</td>\n",
       "      <td>0.500000</td>\n",
       "      <td>0.500000</td>\n",
       "      <td>228.750000</td>\n",
       "      <td>0.622484</td>\n",
       "    </tr>\n",
       "    <tr>\n",
       "      <th>50%</th>\n",
       "      <td>4.000000</td>\n",
       "      <td>4.000000</td>\n",
       "      <td>5.000000</td>\n",
       "      <td>0.500000</td>\n",
       "      <td>0.500000</td>\n",
       "      <td>0.500943</td>\n",
       "      <td>0.500000</td>\n",
       "      <td>0.500000</td>\n",
       "      <td>0.500000</td>\n",
       "      <td>0.500000</td>\n",
       "      <td>0.500000</td>\n",
       "      <td>0.500000</td>\n",
       "      <td>0.500000</td>\n",
       "      <td>0.500000</td>\n",
       "      <td>0.500000</td>\n",
       "      <td>589.500000</td>\n",
       "      <td>0.623969</td>\n",
       "    </tr>\n",
       "    <tr>\n",
       "      <th>75%</th>\n",
       "      <td>8.000000</td>\n",
       "      <td>13.000000</td>\n",
       "      <td>11.000000</td>\n",
       "      <td>0.500000</td>\n",
       "      <td>0.646715</td>\n",
       "      <td>0.502740</td>\n",
       "      <td>0.500000</td>\n",
       "      <td>0.500000</td>\n",
       "      <td>0.500000</td>\n",
       "      <td>0.500000</td>\n",
       "      <td>0.500000</td>\n",
       "      <td>0.500000</td>\n",
       "      <td>0.500000</td>\n",
       "      <td>0.503043</td>\n",
       "      <td>0.500000</td>\n",
       "      <td>1754.250000</td>\n",
       "      <td>0.646423</td>\n",
       "    </tr>\n",
       "    <tr>\n",
       "      <th>max</th>\n",
       "      <td>10.000000</td>\n",
       "      <td>394.000000</td>\n",
       "      <td>355.000000</td>\n",
       "      <td>1.000000</td>\n",
       "      <td>1.000000</td>\n",
       "      <td>0.938770</td>\n",
       "      <td>0.999980</td>\n",
       "      <td>1.000000</td>\n",
       "      <td>0.995826</td>\n",
       "      <td>1.000000</td>\n",
       "      <td>1.000000</td>\n",
       "      <td>0.998989</td>\n",
       "      <td>0.910067</td>\n",
       "      <td>0.998759</td>\n",
       "      <td>0.989540</td>\n",
       "      <td>113084.000000</td>\n",
       "      <td>0.670000</td>\n",
       "    </tr>\n",
       "  </tbody>\n",
       "</table>\n",
       "</div>"
      ],
      "text/plain": [
       "           section     indegree    outdegree       w_name  w_name_desc  \\\n",
       "count  2448.000000  2448.000000  2448.000000  2448.000000  2448.000000   \n",
       "mean      3.996324    13.892157    13.503676     0.608854     0.591422   \n",
       "std       3.173821    33.927249    36.235223     0.205312     0.152930   \n",
       "min       0.000000     0.000000     0.000000     0.500000     0.500000   \n",
       "25%       2.000000     1.000000     0.000000     0.500000     0.500000   \n",
       "50%       4.000000     4.000000     5.000000     0.500000     0.500000   \n",
       "75%       8.000000    13.000000    11.000000     0.500000     0.646715   \n",
       "max      10.000000   394.000000   355.000000     1.000000     1.000000   \n",
       "\n",
       "            w_desc        w_lib  w_return_vals        w_env      w_files  \\\n",
       "count  2448.000000  2448.000000    2448.000000  2448.000000  2448.000000   \n",
       "mean      0.503225     0.503276       0.511072     0.503371     0.515782   \n",
       "std       0.012224     0.038461       0.056123     0.030938     0.070103   \n",
       "min       0.500000     0.500000       0.500000     0.500000     0.500000   \n",
       "25%       0.500314     0.500000       0.500000     0.500000     0.500000   \n",
       "50%       0.500943     0.500000       0.500000     0.500000     0.500000   \n",
       "75%       0.502740     0.500000       0.500000     0.500000     0.500000   \n",
       "max       0.938770     0.999980       1.000000     0.995826     1.000000   \n",
       "\n",
       "       w_exit_status  w_diagnostics     w_errors  w_special_keywords  \\\n",
       "count    2448.000000    2448.000000  2448.000000         2448.000000   \n",
       "mean        0.508199       0.502594     0.504132            0.514202   \n",
       "std         0.056711       0.025998     0.028089            0.055809   \n",
       "min         0.500000       0.500000     0.500000            0.500000   \n",
       "25%         0.500000       0.500000     0.500000            0.500000   \n",
       "50%         0.500000       0.500000     0.500000            0.500000   \n",
       "75%         0.500000       0.500000     0.500000            0.503043   \n",
       "max         1.000000       0.998989     0.910067            0.998759   \n",
       "\n",
       "       w_xr_context       w_doclen      w_total  \n",
       "count   2448.000000    2448.000000  2448.000000  \n",
       "mean       0.506785    2524.439134     0.635860  \n",
       "std        0.035020    8786.578076     0.019970  \n",
       "min        0.500000      22.000000     0.620000  \n",
       "25%        0.500000     228.750000     0.622484  \n",
       "50%        0.500000     589.500000     0.623969  \n",
       "75%        0.500000    1754.250000     0.646423  \n",
       "max        0.989540  113084.000000     0.670000  "
      ]
     },
     "execution_count": 8,
     "metadata": {},
     "output_type": "execute_result"
    }
   ],
   "source": [
    "data.describe()"
   ]
  },
  {
   "cell_type": "code",
   "execution_count": 9,
   "metadata": {
    "collapsed": false
   },
   "outputs": [],
   "source": [
    "X = data.ix[:, 6:-4]\n"
   ]
  },
  {
   "cell_type": "code",
   "execution_count": 10,
   "metadata": {
    "collapsed": false
   },
   "outputs": [
    {
     "data": {
      "text/plain": [
       "Index(['w_name', 'w_name_desc', 'w_desc', 'w_lib', 'w_return_vals', 'w_env',\n",
       "       'w_files', 'w_exit_status', 'w_diagnostics', 'w_errors'],\n",
       "      dtype='object')"
      ]
     },
     "execution_count": 10,
     "metadata": {},
     "output_type": "execute_result"
    }
   ],
   "source": [
    "X.columns"
   ]
  },
  {
   "cell_type": "code",
   "execution_count": 11,
   "metadata": {
    "collapsed": false
   },
   "outputs": [],
   "source": [
    "y = data.ix[:, -1:]"
   ]
  },
  {
   "cell_type": "code",
   "execution_count": 12,
   "metadata": {
    "collapsed": true
   },
   "outputs": [],
   "source": [
    "seed = 42"
   ]
  },
  {
   "cell_type": "code",
   "execution_count": 13,
   "metadata": {
    "collapsed": false
   },
   "outputs": [
    {
     "name": "stderr",
     "output_type": "stream",
     "text": [
      "/home/abhinav/miniconda3/envs/cadl/lib/python3.5/site-packages/sklearn/cross_validation.py:44: DeprecationWarning: This module was deprecated in version 0.18 in favor of the model_selection module into which all the refactored classes and functions are moved. Also note that the interface of the new CV iterators are different from that of this module. This module will be removed in 0.20.\n",
      "  \"This module will be removed in 0.20.\", DeprecationWarning)\n"
     ]
    }
   ],
   "source": [
    "from sklearn.cross_validation import train_test_split\n",
    "X_train, X_test, y_train, y_test = train_test_split(X.values, y.values.ravel(), test_size=0.20, random_state=seed)\n",
    "X_train, X_val,y_train, y_val = train_test_split(X_train, y_train, test_size=0.20, random_state=seed)"
   ]
  },
  {
   "cell_type": "code",
   "execution_count": 788,
   "metadata": {
    "collapsed": false
   },
   "outputs": [],
   "source": [
    "from sklearn.preprocessing import StandardScaler\n",
    "stdscaler = StandardScaler()\n",
    "stdscaler.fit(X_train)\n",
    "X_train= stdscaler.transform(X_train)\n",
    "X_val = stdscaler.transform(X_val)\n",
    "X_test= stdscaler.transform(X_test)\n"
   ]
  },
  {
   "cell_type": "code",
   "execution_count": 14,
   "metadata": {
    "collapsed": true
   },
   "outputs": [],
   "source": [
    "from sklearn.metrics import mean_squared_error\n",
    "def mse(model, X_test, y_test):\n",
    "    y_true, y_pred = y_test, model.predict(X_test)\n",
    "    return (mean_squared_error(y_true, y_pred))\n"
   ]
  },
  {
   "cell_type": "code",
   "execution_count": 15,
   "metadata": {
    "collapsed": true
   },
   "outputs": [],
   "source": [
    "from sklearn.linear_model import LinearRegression\n",
    "from sklearn.linear_model import Ridge"
   ]
  },
  {
   "cell_type": "code",
   "execution_count": 16,
   "metadata": {
    "collapsed": false
   },
   "outputs": [
    {
     "data": {
      "text/plain": [
       "LinearRegression(copy_X=True, fit_intercept=True, n_jobs=1, normalize=False)"
      ]
     },
     "execution_count": 16,
     "metadata": {},
     "output_type": "execute_result"
    }
   ],
   "source": [
    "lm = LinearRegression(normalize=False)\n",
    "lm.fit(X_train, y_train)\n"
   ]
  },
  {
   "cell_type": "code",
   "execution_count": 17,
   "metadata": {
    "collapsed": false
   },
   "outputs": [
    {
     "name": "stdout",
     "output_type": "stream",
     "text": [
      "0.000171808278601\n",
      "0.00018307396181\n"
     ]
    }
   ],
   "source": [
    "print(mse(lm, X_train, y_train))\n",
    "print(mse(lm, X_val, y_val))"
   ]
  },
  {
   "cell_type": "code",
   "execution_count": 18,
   "metadata": {
    "collapsed": false
   },
   "outputs": [
    {
     "data": {
      "text/plain": [
       "0.00019371474334001158"
      ]
     },
     "execution_count": 18,
     "metadata": {},
     "output_type": "execute_result"
    }
   ],
   "source": [
    "mse(lm, X_test, y_test)"
   ]
  },
  {
   "cell_type": "code",
   "execution_count": 19,
   "metadata": {
    "collapsed": false,
    "scrolled": true
   },
   "outputs": [
    {
     "name": "stdout",
     "output_type": "stream",
     "text": [
      "[ 0.06821901  0.02468532  0.04045685  0.00356061  0.02982234  0.00012415\n",
      " -0.01107191  0.02385655  0.03359916  0.02360978]\n"
     ]
    }
   ],
   "source": [
    "print(lm.coef_)"
   ]
  },
  {
   "cell_type": "code",
   "execution_count": 20,
   "metadata": {
    "collapsed": false
   },
   "outputs": [
    {
     "data": {
      "text/plain": [
       "0.50677693419413294"
      ]
     },
     "execution_count": 20,
     "metadata": {},
     "output_type": "execute_result"
    }
   ],
   "source": [
    "lm.intercept_"
   ]
  },
  {
   "cell_type": "code",
   "execution_count": 21,
   "metadata": {
    "collapsed": false
   },
   "outputs": [
    {
     "data": {
      "text/plain": [
       "Ridge(alpha=1, copy_X=True, fit_intercept=True, max_iter=None,\n",
       "   normalize=False, random_state=None, solver='auto', tol=0.1)"
      ]
     },
     "execution_count": 21,
     "metadata": {},
     "output_type": "execute_result"
    }
   ],
   "source": [
    "ridge = Ridge(alpha=1, tol=1e-1)\n",
    "ridge.fit(X_train, y_train)"
   ]
  },
  {
   "cell_type": "code",
   "execution_count": 22,
   "metadata": {
    "collapsed": false
   },
   "outputs": [
    {
     "name": "stdout",
     "output_type": "stream",
     "text": [
      "0.550292287481\n",
      "0.565272359725\n",
      "0.000172427032008\n",
      "0.000183566412536\n"
     ]
    }
   ],
   "source": [
    "print(ridge.score(X_train, y_train))\n",
    "print(ridge.score(X_val, y_val))\n",
    "print(mse(ridge, X_train, y_train))\n",
    "print(mse(ridge, X_val, y_val))"
   ]
  },
  {
   "cell_type": "code",
   "execution_count": 23,
   "metadata": {
    "collapsed": false
   },
   "outputs": [
    {
     "data": {
      "text/plain": [
       "0.55058985660920179"
      ]
     },
     "execution_count": 23,
     "metadata": {},
     "output_type": "execute_result"
    }
   ],
   "source": [
    "ridge.score(X_test, y_test)"
   ]
  },
  {
   "cell_type": "code",
   "execution_count": 24,
   "metadata": {
    "collapsed": false
   },
   "outputs": [
    {
     "data": {
      "text/plain": [
       "0.00019054113098838736"
      ]
     },
     "execution_count": 24,
     "metadata": {},
     "output_type": "execute_result"
    }
   ],
   "source": [
    "mse(ridge, X_test, y_test)"
   ]
  },
  {
   "cell_type": "code",
   "execution_count": 131,
   "metadata": {
    "collapsed": false,
    "scrolled": true
   },
   "outputs": [
    {
     "name": "stdout",
     "output_type": "stream",
     "text": [
      "[ 0.06794592  0.02396351  0.0105111   0.00257977  0.02572427  0.00151958\n",
      " -0.00928841  0.01873014  0.01856293  0.01610992]\n"
     ]
    }
   ],
   "source": [
    "print(ridge.coef_)"
   ]
  },
  {
   "cell_type": "code",
   "execution_count": 132,
   "metadata": {
    "collapsed": false
   },
   "outputs": [
    {
     "data": {
      "text/plain": [
       "0.53735061082925895"
      ]
     },
     "execution_count": 132,
     "metadata": {},
     "output_type": "execute_result"
    }
   ],
   "source": [
    "ridge.intercept_"
   ]
  },
  {
   "cell_type": "code",
   "execution_count": 27,
   "metadata": {
    "collapsed": true
   },
   "outputs": [],
   "source": [
    "from sklearn.ensemble import RandomForestRegressor"
   ]
  },
  {
   "cell_type": "code",
   "execution_count": 133,
   "metadata": {
    "collapsed": false
   },
   "outputs": [],
   "source": [
    "rf = RandomForestRegressor(n_estimators=200, max_depth=15, max_features='auto', min_samples_split=2, n_jobs=1)"
   ]
  },
  {
   "cell_type": "code",
   "execution_count": 134,
   "metadata": {
    "collapsed": false
   },
   "outputs": [
    {
     "data": {
      "text/plain": [
       "RandomForestRegressor(bootstrap=True, criterion='mse', max_depth=15,\n",
       "           max_features='auto', max_leaf_nodes=None,\n",
       "           min_impurity_split=1e-07, min_samples_leaf=1,\n",
       "           min_samples_split=2, min_weight_fraction_leaf=0.0,\n",
       "           n_estimators=200, n_jobs=1, oob_score=False, random_state=None,\n",
       "           verbose=0, warm_start=False)"
      ]
     },
     "execution_count": 134,
     "metadata": {},
     "output_type": "execute_result"
    }
   ],
   "source": [
    "rf.fit(X_train, y_train)"
   ]
  },
  {
   "cell_type": "code",
   "execution_count": 135,
   "metadata": {
    "collapsed": false
   },
   "outputs": [
    {
     "data": {
      "text/plain": [
       "0.89918401787263236"
      ]
     },
     "execution_count": 135,
     "metadata": {},
     "output_type": "execute_result"
    }
   ],
   "source": [
    "rf.score(X_train, y_train)"
   ]
  },
  {
   "cell_type": "code",
   "execution_count": 136,
   "metadata": {
    "collapsed": false
   },
   "outputs": [
    {
     "data": {
      "text/plain": [
       "0.60709705874503173"
      ]
     },
     "execution_count": 136,
     "metadata": {},
     "output_type": "execute_result"
    }
   ],
   "source": [
    "rf.score(X_val, y_val)"
   ]
  },
  {
   "cell_type": "code",
   "execution_count": 137,
   "metadata": {
    "collapsed": false
   },
   "outputs": [
    {
     "name": "stdout",
     "output_type": "stream",
     "text": [
      "3.86548864814e-05\n",
      "0.00016590567684\n"
     ]
    }
   ],
   "source": [
    "print (mse(rf, X_train, y_train))\n",
    "print (mse(rf, X_val, y_val))"
   ]
  },
  {
   "cell_type": "code",
   "execution_count": 29,
   "metadata": {
    "collapsed": false
   },
   "outputs": [
    {
     "data": {
      "text/plain": [
       "0.50092787788347737"
      ]
     },
     "execution_count": 29,
     "metadata": {},
     "output_type": "execute_result"
    }
   ],
   "source": [
    "rf.score(X_test, y_test)"
   ]
  },
  {
   "cell_type": "code",
   "execution_count": 832,
   "metadata": {
    "collapsed": false
   },
   "outputs": [
    {
     "data": {
      "text/plain": [
       "array([ 0.54279857,  0.11843296,  0.09523817,  0.00132681,  0.01800907,\n",
       "        0.00259071,  0.01351869,  0.0059429 ,  0.00760503,  0.01325691,\n",
       "        0.05991658,  0.01521094,  0.10615265])"
      ]
     },
     "execution_count": 832,
     "metadata": {},
     "output_type": "execute_result"
    }
   ],
   "source": [
    "rf.feature_importances_"
   ]
  },
  {
   "cell_type": "code",
   "execution_count": 25,
   "metadata": {
    "collapsed": false
   },
   "outputs": [],
   "source": [
    "from sklearn.model_selection import GridSearchCV"
   ]
  },
  {
   "cell_type": "code",
   "execution_count": 28,
   "metadata": {
    "collapsed": false
   },
   "outputs": [],
   "source": [
    "rf = RandomForestRegressor()\n",
    "params = {'n_estimators': [200, 300, 500, 600], 'max_depth': [15,18,20,25,30,50], 'max_features': [10, 'auto', 'sqrt', 'log2']}\n",
    "gridsearch = GridSearchCV(rf, param_grid=params, scoring='neg_mean_squared_error', n_jobs=-1, cv=5)"
   ]
  },
  {
   "cell_type": "code",
   "execution_count": 29,
   "metadata": {
    "collapsed": false
   },
   "outputs": [],
   "source": [
    "f = gridsearch.fit(X_train, y_train)"
   ]
  },
  {
   "cell_type": "code",
   "execution_count": 30,
   "metadata": {
    "collapsed": false
   },
   "outputs": [
    {
     "data": {
      "text/plain": [
       "0.62531806607922658"
      ]
     },
     "execution_count": 30,
     "metadata": {},
     "output_type": "execute_result"
    }
   ],
   "source": [
    "f.best_estimator_.score(X_val, y_val)"
   ]
  },
  {
   "cell_type": "code",
   "execution_count": 32,
   "metadata": {
    "collapsed": false
   },
   "outputs": [
    {
     "data": {
      "text/plain": [
       "{'max_depth': 15, 'max_features': 'sqrt', 'n_estimators': 300}"
      ]
     },
     "execution_count": 32,
     "metadata": {},
     "output_type": "execute_result"
    }
   ],
   "source": [
    "f.best_params_"
   ]
  },
  {
   "cell_type": "code",
   "execution_count": 31,
   "metadata": {
    "collapsed": false
   },
   "outputs": [
    {
     "name": "stdout",
     "output_type": "stream",
     "text": [
      "The model is trained on the full development set.\n",
      "The scores are computed on the full evaluation set.\n",
      "\n",
      "0.000169345807336\n",
      "\n"
     ]
    }
   ],
   "source": [
    "from sklearn.metrics import mean_squared_error\n",
    "print(\"The model is trained on the full development set.\")\n",
    "print(\"The scores are computed on the full evaluation set.\")\n",
    "print()\n",
    "y_true, y_pred = y_test, f.predict(X_test)\n",
    "print(mean_squared_error(y_true, y_pred))\n",
    "print()\n"
   ]
  },
  {
   "cell_type": "code",
   "execution_count": 61,
   "metadata": {
    "collapsed": false
   },
   "outputs": [
    {
     "data": {
      "text/plain": [
       "array([ 0.51046613,  0.11883687,  0.16324559,  0.00215274,  0.05241182,\n",
       "        0.0201753 ,  0.04246049,  0.02403219,  0.03068673,  0.03553214])"
      ]
     },
     "execution_count": 61,
     "metadata": {},
     "output_type": "execute_result"
    }
   ],
   "source": [
    "f.best_estimator_.feature_importances_"
   ]
  },
  {
   "cell_type": "code",
   "execution_count": 62,
   "metadata": {
    "collapsed": false
   },
   "outputs": [
    {
     "name": "stdout",
     "output_type": "stream",
     "text": [
      "0.0477839829514\n",
      "0.0477839829514\n"
     ]
    }
   ],
   "source": [
    "y_true, y_pred = y_test, f.best_estimator_.predict(X_test)\n",
    "print(mean_squared_error(y_true, y_pred))\n",
    "print(np.mean(((y_true - y_pred) ** 2)))"
   ]
  },
  {
   "cell_type": "code",
   "execution_count": 63,
   "metadata": {
    "collapsed": false
   },
   "outputs": [
    {
     "name": "stdout",
     "output_type": "stream",
     "text": [
      "1.248182 0.622595145514\n",
      "0.630652 0.672942454556\n",
      "0.622776 0.633884122766\n",
      "0.622463 0.643032274574\n",
      "0.622463 0.633776089231\n",
      "0.622503 0.63883051966\n",
      "1.262254 1.25129989159\n",
      "0.628163 0.661512887843\n",
      "1.279624 1.14349649937\n",
      "1.26165 1.22329946544\n",
      "0.62249 0.63325192628\n",
      "0.625116 0.731831267972\n",
      "0.622494 0.638477865834\n",
      "1.262468 1.20658377282\n",
      "0.622487 0.634391828519\n",
      "1.261712 1.24002096336\n",
      "0.622471 0.625590828551\n",
      "0.3128285 0.671998462041\n",
      "0.626609 0.781534357578\n",
      "1.247012 0.682981719601\n",
      "0.635806 0.656924228987\n",
      "0.622482 0.633197192582\n",
      "1.253272 0.704682481274\n",
      "1.263866 1.114184932\n",
      "0.623264 0.622558742601\n",
      "0.622472 0.625108016751\n",
      "0.622462 0.603645968\n",
      "0.3194235 1.24191783674\n",
      "1.257468 0.741462827863\n",
      "0.636061 0.881315604203\n",
      "0.622784 0.643182619326\n",
      "1.244998 0.639356758159\n",
      "0.628751 0.745133873334\n",
      "0.622534 0.638477865834\n",
      "0.639131 1.01355084303\n",
      "0.631216 1.24443388067\n",
      "0.3137595 0.579433809297\n",
      "0.622538 0.638262887008\n",
      "0.622466 0.618526235243\n",
      "0.622464 0.613744738781\n",
      "1.276796 1.25267561669\n",
      "0.631039 0.646264560348\n",
      "0.623078 0.63390546673\n",
      "0.624132 0.638739803231\n",
      "0.622466 0.620138155792\n",
      "0.622606 0.632082179769\n",
      "1.261614 1.25099665274\n",
      "0.627231 0.742578170963\n",
      "0.637115 1.07930508981\n",
      "0.629373 0.659187865132\n",
      "0.625699 0.638203368218\n",
      "1.261786 0.998058285614\n",
      "1.261674 1.22689939643\n",
      "1.275118 1.2709336505\n",
      "0.629606 0.757388930812\n",
      "0.622523 0.636736666478\n",
      "0.622526 0.63797252774\n",
      "1.261724 0.821683313695\n",
      "0.622982 0.625108016751\n",
      "1.26339 1.25793095666\n",
      "1.275584 0.906521137883\n",
      "0.622468 0.638085281248\n",
      "1.261644 1.05052174852\n",
      "0.312339 0.583185901629\n",
      "0.622492 0.638657537293\n",
      "0.622467 0.631124088006\n",
      "0.622466 0.618526235243\n",
      "0.622645 0.638477865834\n",
      "1.275254 0.908924971725\n",
      "0.626108 0.5966205259\n",
      "0.622471 0.625343584209\n",
      "0.314616 0.626986376661\n",
      "0.622484 0.633445024492\n",
      "0.632535 0.673569967825\n",
      "1.261636 1.20359720795\n",
      "0.632412 0.68230698461\n",
      "0.622484 0.642940730509\n",
      "0.622713 0.633197192582\n",
      "1.261864 1.11070833828\n",
      "0.622499 0.639356758159\n",
      "0.62246 0.597771036359\n",
      "1.265276 1.26034454901\n",
      "0.623511 0.628416808656\n",
      "0.622495 0.638477865834\n",
      "0.3174455 0.943711242088\n",
      "0.622467 0.632955933497\n",
      "0.624215 0.602563322234\n",
      "0.622468 0.638949007853\n",
      "0.622878 0.631740389995\n",
      "0.315189 0.659311703955\n",
      "1.262148 1.24652139728\n",
      "1.265466 1.24946789395\n",
      "0.623518 0.602808234174\n",
      "0.313626 0.557211876712\n",
      "0.626013 1.14448000289\n",
      "0.622672 0.625108016751\n",
      "0.622659 0.635039474947\n",
      "0.622481 0.633163506773\n",
      "0.622653 0.447253985313\n",
      "1.269198 0.827559677465\n",
      "1.253562 0.803468647946\n",
      "1.263448 1.24531978459\n",
      "0.636942 0.684599526738\n",
      "0.625034 0.64620782166\n",
      "1.27307 1.23929113903\n",
      "0.622485 0.633604560365\n",
      "0.622482 0.633197192582\n",
      "0.622513 0.63633131462\n",
      "0.62291 0.638657537293\n",
      "1.266196 0.695834611757\n",
      "0.622464 0.615738295855\n",
      "0.622465 0.616493787203\n",
      "1.278198 1.23848138637\n",
      "1.280544 1.26349829868\n",
      "0.622495 0.638477865834\n",
      "1.265832 0.879357416816\n",
      "1.263668 1.25557595901\n",
      "0.622729 0.625013225043\n",
      "0.622524 0.65070173699\n",
      "0.626668 0.614181100808\n",
      "0.622476 0.628282460889\n",
      "0.313516 0.674171806338\n",
      "0.311823 0.567489485132\n",
      "0.622476 0.628194814147\n",
      "0.3128355 0.66003275671\n",
      "1.289308 1.15740612377\n",
      "0.622539 0.640181353882\n",
      "0.629943 0.71777694565\n",
      "0.313891 0.580255253511\n",
      "0.622463 0.683557010224\n",
      "0.622745 0.405773339849\n",
      "1.276938 1.17870595053\n",
      "1.245 0.639132851354\n",
      "1.245974 0.634983927811\n",
      "0.626789 0.62836094341\n",
      "0.622487 0.634391828519\n",
      "0.622466 0.615478421121\n",
      "0.622523 0.636736666478\n",
      "0.635996 0.7340920519\n",
      "0.62611 0.628916386708\n",
      "0.631309 0.788441470961\n",
      "1.270152 1.24669888427\n",
      "0.625978 0.649888365701\n",
      "0.311486 0.630258989747\n",
      "0.63258 0.635286221821\n",
      "0.622506 0.637717391434\n",
      "0.628852 0.714700833689\n",
      "0.622487 0.634391828519\n",
      "0.622816 0.625340665876\n",
      "0.622504 0.63883051966\n",
      "0.622525 0.638408370859\n",
      "0.624144 0.636532491598\n",
      "0.622532 0.635747964832\n",
      "0.311233 0.614874714937\n",
      "0.631012 1.20270683385\n",
      "0.622495 0.638477865834\n",
      "0.622671 0.363114152133\n",
      "0.622468 0.648992816514\n",
      "0.3112345 0.633259641765\n",
      "0.622556 0.633259641765\n",
      "0.630098 0.667461071515\n",
      "0.622472 0.624537648023\n",
      "0.622686 0.634700164714\n",
      "0.628188 0.620640051398\n",
      "1.263814 1.13400503167\n",
      "0.62357 0.698213094006\n",
      "1.245232 0.595611990699\n",
      "0.622509 0.637408768972\n",
      "0.633218 1.14604054579\n",
      "0.622542 0.633620022043\n",
      "1.286184 1.01756309357\n",
      "0.623556 0.635773447571\n",
      "1.26786 1.14321118675\n",
      "0.62259 0.630592299766\n",
      "0.622482 0.633197192582\n",
      "0.622535 0.592886129101\n",
      "0.622597 0.633259641765\n",
      "1.246456 0.700907626223\n",
      "0.3134735 0.567524048626\n",
      "1.280686 1.27843248121\n",
      "0.623019 0.61965867388\n",
      "0.634141 0.638534915294\n",
      "1.261854 1.26052503487\n",
      "1.279454 1.26029690854\n",
      "1.29218 1.20735447138\n",
      "1.273652 1.03095850541\n",
      "1.262336 1.26294363322\n",
      "1.270916 1.24467676878\n",
      "0.62246 0.603131227435\n",
      "1.262024 1.25196185566\n",
      "0.622466 0.603252036968\n",
      "0.622463 0.614345227197\n",
      "1.26185 1.2223135163\n",
      "1.2684 0.739020084953\n",
      "1.261806 1.23673342476\n",
      "0.622477 0.626450891208\n",
      "0.625549 0.805311679492\n",
      "0.625292 0.667935253732\n",
      "0.637031 0.960796397308\n",
      "0.622459 0.691558174776\n",
      "0.638726 1.11494968732\n",
      "0.622471 0.625343584209\n",
      "0.622527 0.635792552034\n",
      "0.622479 0.633004901107\n",
      "0.643838 0.916194864367\n",
      "0.629394 0.6241229432\n",
      "0.631427 0.65979980351\n",
      "0.622468 0.632244099448\n",
      "0.622462 0.605694697836\n",
      "0.622462 0.574607257132\n",
      "0.622478 0.630424009487\n",
      "0.622466 0.618526235243\n",
      "0.6281 0.718706590932\n",
      "1.278076 1.11140652935\n",
      "0.629866 0.651641533052\n",
      "0.622614 0.642989540495\n",
      "0.319078 1.25957361799\n",
      "0.622489 0.633467482377\n",
      "1.26157 0.999288112956\n",
      "0.622489 0.62966923606\n",
      "0.622532 0.634678520811\n",
      "0.622556 0.635059989167\n",
      "0.622493 0.638657537293\n",
      "1.24949 0.582091644755\n",
      "0.622464 0.611956866575\n",
      "0.624877 0.739919211366\n",
      "1.278432 1.20575940138\n",
      "0.632412 0.68230698461\n",
      "0.642129 0.623586424772\n",
      "1.264108 1.10224870498\n",
      "1.258192 0.682019309151\n",
      "0.634148 1.16343687502\n",
      "1.265612 1.26285638021\n",
      "0.622589 0.632239598484\n",
      "1.250654 0.636726959564\n",
      "1.28545 1.12425252489\n",
      "0.63309 0.772535748015\n",
      "0.629117 0.69945536069\n",
      "0.632831 0.677825836148\n",
      "0.622465 0.61432918914\n",
      "1.276848 1.26751708349\n",
      "0.630887 0.633390765239\n",
      "0.630971 1.02002332586\n",
      "0.630024 0.742182802437\n",
      "0.622489 0.620125520591\n",
      "0.629392 0.685042652264\n",
      "0.622488 0.634391828519\n",
      "0.622484 0.612594315948\n",
      "1.24633 0.635056862811\n",
      "0.622784 0.611770299397\n",
      "0.313132 0.682494462853\n",
      "0.63082 0.832742774443\n",
      "1.252078 0.77933174981\n",
      "0.627646 0.671381441682\n",
      "1.263192 1.05465426124\n",
      "1.278172 1.21261828066\n",
      "1.310254 1.17778617767\n",
      "1.272312 1.22217892487\n",
      "0.622461 0.597405404927\n",
      "0.622466 0.611474613398\n",
      "0.622471 0.625340665876\n",
      "0.622475 0.628035352381\n",
      "0.622669 0.625343584209\n",
      "1.264584 1.07673216429\n",
      "1.261704 0.993607476644\n",
      "0.311252 0.692169173772\n",
      "1.261776 1.24526817761\n",
      "1.293938 1.17679421366\n",
      "0.622464 0.609285101051\n",
      "0.624859 0.682989717544\n",
      "0.622801 0.63394164024\n",
      "1.2822 1.26762605056\n",
      "0.627055 0.660942030567\n",
      "0.622482 0.634368198911\n",
      "0.622463 0.683557010224\n",
      "0.62763 0.614955515513\n",
      "1.26163 1.18510759553\n",
      "0.626144 0.594327071002\n",
      "0.622478 0.630592299766\n",
      "0.631897 0.944971428973\n",
      "1.277062 1.26221743164\n",
      "0.622615 0.642989540495\n",
      "0.622467 0.632120870701\n",
      "0.62246 0.599787735981\n",
      "0.622478 0.630592299766\n",
      "0.622471 0.625340665876\n",
      "1.280772 1.21293781484\n",
      "0.622472 0.62548008016\n",
      "1.261646 1.20415236859\n",
      "0.622626 0.634402801351\n",
      "0.626198 0.605478305226\n",
      "0.311231 0.585424863203\n",
      "1.279816 1.26975844256\n",
      "0.622538 0.638262887008\n",
      "1.26737 1.24436274726\n",
      "0.623511 0.628933184099\n",
      "1.25968 0.605112818285\n",
      "0.628071 0.684439748215\n",
      "1.248294 0.875132592205\n",
      "0.622496 0.549990066106\n",
      "1.278124 1.11637623952\n",
      "0.62827 0.671988864737\n",
      "0.622598 0.631999260922\n",
      "1.260844 0.689275779402\n",
      "1.262112 1.25227782208\n",
      "1.281462 1.11711136569\n",
      "0.62276 0.696117591331\n",
      "0.623604 0.632226299922\n",
      "0.622538 0.627356537858\n",
      "0.624811 0.636160214094\n",
      "1.278202 1.261700946\n",
      "0.62265 0.638472403853\n",
      "0.631896 0.704445215084\n",
      "0.627209 0.602714877803\n",
      "1.261686 1.16138641185\n",
      "1.261622 1.21863321316\n",
      "0.639372 1.22044622559\n",
      "0.622472 0.61432918914\n",
      "1.264822 1.25212339609\n",
      "0.3114345 0.60571518699\n",
      "1.249818 0.721157375956\n",
      "0.622476 0.63459136716\n",
      "0.62248 0.633004901107\n",
      "0.63137 0.960057475869\n",
      "0.629468 0.66805872581\n",
      "0.311237 0.625108016751\n",
      "1.278222 1.2518718739\n",
      "0.636588 0.716161736831\n",
      "0.62246 0.594801886305\n",
      "0.628627 0.64268841426\n",
      "0.627434 0.63848544919\n",
      "0.624132 0.591617497353\n",
      "0.62248 0.633004901107\n",
      "0.623425 0.660859497628\n",
      "0.622471 0.625340665876\n",
      "0.625398 0.695033109548\n",
      "0.622472 0.623058368478\n",
      "0.622623 0.634402801351\n",
      "1.246856 0.637540373635\n",
      "0.622467 0.632141076344\n",
      "0.622478 0.630592299766\n",
      "1.249986 0.636515693977\n",
      "1.261612 1.25308529771\n",
      "0.62246 0.594801886305\n",
      "0.624023 0.645386363262\n",
      "0.622941 0.638461399154\n",
      "1.285388 1.27191926356\n",
      "1.246412 0.638657537293\n",
      "0.627787 0.623378872782\n",
      "1.264394 0.989592318925\n",
      "1.281152 1.22460529723\n",
      "0.3148595 0.562343206857\n",
      "0.624359 0.67631658086\n",
      "0.622462 0.605694697836\n",
      "0.624801 0.644716203747\n",
      "0.622472 0.62548008016\n",
      "0.3112395 0.633004901107\n",
      "0.624934 0.665704596841\n",
      "0.62398 0.652237268407\n",
      "0.625116 0.654975529238\n",
      "0.31452 0.66078111337\n",
      "1.261968 1.25622906308\n",
      "0.622542 0.635760114543\n",
      "0.625297 0.633287038275\n",
      "0.622481 0.633383326597\n",
      "0.3125985 0.669337761431\n",
      "0.622511 0.637408768972\n",
      "0.622982 0.505456994049\n",
      "0.622541 0.639132851354\n",
      "0.639047 1.16423189927\n",
      "1.27177 0.854611484004\n",
      "0.622463 0.683557010224\n",
      "1.263564 1.26074041612\n",
      "0.622524 0.638477865834\n",
      "1.263234 0.915542936357\n",
      "0.622473 0.625108016751\n",
      "0.622464 0.612661992173\n",
      "0.626445 0.595049521834\n",
      "1.262512 0.851006505512\n",
      "1.26243 1.26116590397\n",
      "0.623817 0.624106272818\n",
      "0.624968 0.858588711408\n",
      "0.3112555 0.629981906401\n",
      "1.246062 0.62803503481\n",
      "0.631794 0.76345738779\n",
      "0.626376 0.642336918995\n",
      "0.62248 0.633383326597\n",
      "0.622467 0.63078893697\n",
      "0.63668 0.76288265362\n",
      "0.622515 0.637958789849\n",
      "0.622479 0.653277083903\n",
      "0.3122805 0.660201050497\n",
      "1.272138 0.693751911578\n",
      "0.641806 0.932723314618\n",
      "0.622528 0.635773447571\n",
      "1.24515 0.633445024492\n",
      "0.622495 0.638477865834\n",
      "0.622797 0.633620022043\n",
      "0.62357 0.680038041744\n",
      "1.252616 0.817457404147\n",
      "0.311429 0.435842967296\n",
      "0.626741 0.706750291154\n",
      "1.263438 1.2362001211\n",
      "0.622877 0.631740389995\n",
      "0.311242 0.651264464659\n",
      "0.622485 0.640048274792\n",
      "0.3114865 0.491053732186\n",
      "0.626751 0.649118381273\n",
      "0.622484 0.633445024492\n",
      "1.261636 1.15117474325\n",
      "0.622474 0.623419114504\n",
      "0.622463 0.61931862004\n",
      "0.630739 0.708026828738\n",
      "1.258086 0.764239742529\n",
      "1.259192 0.721697421528\n",
      "0.627787 0.623378872782\n",
      "0.62276 0.652466299891\n",
      "0.622464 0.613477626575\n",
      "1.261606 1.25308529771\n",
      "0.622623 0.634402801351\n",
      "0.622481 0.565283442681\n",
      "0.622481 0.633383326597\n",
      "0.62247 0.624971068018\n",
      "0.624291 0.642880787995\n",
      "0.622463 0.633776089231\n",
      "0.630069 0.842227567384\n",
      "0.622483 0.634700164714\n",
      "0.622491 0.634476335783\n",
      "0.622604 0.637717391434\n",
      "0.622549 0.632888476536\n",
      "1.277204 1.11603918748\n",
      "0.622462 0.599667928979\n",
      "0.6227 0.633383326597\n",
      "0.635321 0.653668892717\n",
      "1.261656 1.16243003444\n",
      "1.26163 1.20730903204\n",
      "0.622488 0.634391828519\n",
      "0.622484 0.633445024492\n",
      "0.622469 0.629673953367\n",
      "1.265994 0.852170571661\n",
      "0.3112345 0.636309141444\n",
      "0.626009 0.503615057385\n",
      "1.261636 1.20359720795\n",
      "0.3143605 0.666596545347\n",
      "0.314083 0.560005196127\n",
      "1.285904 1.28650179178\n",
      "0.31123 0.593668598103\n",
      "0.627018 0.708267498716\n",
      "0.630712 0.752164491042\n",
      "1.254066 0.667631171348\n",
      "1.277524 1.27156111102\n",
      "0.624082 0.614538478401\n",
      "0.624961 0.684543338798\n",
      "0.622936 0.611397658477\n",
      "0.622478 0.630592299766\n",
      "1.255774 0.658628608563\n",
      "0.629338 0.663047718602\n",
      "0.627144 0.618887966228\n",
      "0.623644 0.593683992745\n",
      "0.623572 0.623442113165\n",
      "1.262432 1.26126132064\n",
      "0.623269 0.603350573596\n",
      "0.622824 0.637798408855\n",
      "1.261692 1.16445063726\n",
      "0.622484 0.642940730509\n",
      "0.626511 0.634652117993\n",
      "0.622629 0.62548008016\n",
      "0.62248 0.613699432173\n",
      "1.261638 1.17611907623\n",
      "0.622471 0.625340665876\n",
      "1.26249 1.26138235243\n",
      "0.622609 0.632035887898\n",
      "0.627557 0.660749196114\n",
      "1.267428 1.01902958654\n",
      "0.622469 0.629673953367\n",
      "0.626924 0.660754863161\n",
      "0.3112655 0.501740159383\n",
      "0.626124 0.630916004573\n",
      "1.253506 0.698989121528\n",
      "0.624385 0.821292771576\n",
      "0.314502 0.642920727164\n",
      "1.24521 0.632273641508\n",
      "0.622563 0.632808891151\n",
      "0.622487 0.634391828519\n",
      "0.62246 0.59921841741\n",
      "0.634788 1.1378375205\n",
      "0.311231 0.605702851779\n",
      "0.630063 0.642499810866\n",
      "1.265962 1.18125712479\n",
      "0.622502 0.603645968\n"
     ]
    }
   ],
   "source": [
    "for i, j in zip(y_true, y_pred):\n",
    "    print (i, j)"
   ]
  },
  {
   "cell_type": "code",
   "execution_count": 418,
   "metadata": {
    "collapsed": true
   },
   "outputs": [],
   "source": [
    "from sklearn.ensemble import GradientBoostingRegressor"
   ]
  },
  {
   "cell_type": "code",
   "execution_count": 419,
   "metadata": {
    "collapsed": false
   },
   "outputs": [],
   "source": [
    "gboost = GradientBoostingRegressor(n_estimators=560, max_depth=15,learning_rate=0.01, min_samples_split=6, max_features='log2')"
   ]
  },
  {
   "cell_type": "code",
   "execution_count": 420,
   "metadata": {
    "collapsed": false
   },
   "outputs": [
    {
     "data": {
      "text/plain": [
       "GradientBoostingRegressor(alpha=0.9, criterion='friedman_mse', init=None,\n",
       "             learning_rate=0.01, loss='ls', max_depth=15,\n",
       "             max_features='log2', max_leaf_nodes=None,\n",
       "             min_impurity_split=1e-07, min_samples_leaf=1,\n",
       "             min_samples_split=6, min_weight_fraction_leaf=0.0,\n",
       "             n_estimators=560, presort='auto', random_state=None,\n",
       "             subsample=1.0, verbose=0, warm_start=False)"
      ]
     },
     "execution_count": 420,
     "metadata": {},
     "output_type": "execute_result"
    }
   ],
   "source": [
    "gboost.fit(X_train, y_train)"
   ]
  },
  {
   "cell_type": "code",
   "execution_count": 421,
   "metadata": {
    "collapsed": false
   },
   "outputs": [
    {
     "data": {
      "text/plain": [
       "0.99414205812276912"
      ]
     },
     "execution_count": 421,
     "metadata": {},
     "output_type": "execute_result"
    }
   ],
   "source": [
    "gboost.score(X_train, y_train)"
   ]
  },
  {
   "cell_type": "code",
   "execution_count": 422,
   "metadata": {
    "collapsed": false
   },
   "outputs": [
    {
     "data": {
      "text/plain": [
       "0.65243157531987439"
      ]
     },
     "execution_count": 422,
     "metadata": {},
     "output_type": "execute_result"
    }
   ],
   "source": [
    "gboost.score(X_val, y_val)"
   ]
  },
  {
   "cell_type": "code",
   "execution_count": 423,
   "metadata": {
    "collapsed": false
   },
   "outputs": [
    {
     "data": {
      "text/plain": [
       "array([  7.19848580e-02,   5.91980260e-02,   2.11569805e-01,\n",
       "         8.53946169e-02,   2.30231487e-01,   1.67923816e-03,\n",
       "         2.09102503e-02,   3.60059135e-03,   1.24457980e-02,\n",
       "         8.94339138e-03,   1.05953829e-02,   1.36070968e-02,\n",
       "         7.69400813e-02,   1.80496056e-02,   1.26072946e-05,\n",
       "         1.74837164e-01])"
      ]
     },
     "execution_count": 423,
     "metadata": {},
     "output_type": "execute_result"
    }
   ],
   "source": [
    "gboost.feature_importances_"
   ]
  },
  {
   "cell_type": "code",
   "execution_count": 313,
   "metadata": {
    "collapsed": false
   },
   "outputs": [],
   "source": [
    "from sklearn.neural_network import MLPRegressor"
   ]
  },
  {
   "cell_type": "code",
   "execution_count": 361,
   "metadata": {
    "collapsed": true
   },
   "outputs": [],
   "source": [
    "mlp = MLPRegressor(hidden_layer_sizes=(14,32,64,32,16,1), learning_rate='adaptive', activation='tanh', max_iter=1000,  solver='lbgfs', momentum=0.9)"
   ]
  },
  {
   "cell_type": "code",
   "execution_count": 362,
   "metadata": {
    "collapsed": false
   },
   "outputs": [
    {
     "data": {
      "text/plain": [
       "MLPRegressor(activation='tanh', alpha=0.0001, batch_size='auto', beta_1=0.9,\n",
       "       beta_2=0.999, early_stopping=False, epsilon=1e-08,\n",
       "       hidden_layer_sizes=(14, 32, 64, 32, 16, 1),\n",
       "       learning_rate='adaptive', learning_rate_init=0.001, max_iter=1000,\n",
       "       momentum=0.9, nesterovs_momentum=True, power_t=0.5,\n",
       "       random_state=None, shuffle=True, solver='lbgfs', tol=0.0001,\n",
       "       validation_fraction=0.1, verbose=False, warm_start=False)"
      ]
     },
     "execution_count": 362,
     "metadata": {},
     "output_type": "execute_result"
    }
   ],
   "source": [
    "mlp.fit(X_train, y_train)"
   ]
  },
  {
   "cell_type": "code",
   "execution_count": 363,
   "metadata": {
    "collapsed": false
   },
   "outputs": [
    {
     "data": {
      "text/plain": [
       "1.0898200191178375e-06"
      ]
     },
     "execution_count": 363,
     "metadata": {},
     "output_type": "execute_result"
    }
   ],
   "source": [
    "mlp.score(X_train, y_train)"
   ]
  },
  {
   "cell_type": "code",
   "execution_count": 364,
   "metadata": {
    "collapsed": false
   },
   "outputs": [
    {
     "data": {
      "text/plain": [
       "-0.0088081326514710678"
      ]
     },
     "execution_count": 364,
     "metadata": {},
     "output_type": "execute_result"
    }
   ],
   "source": [
    "mlp.score(X_val, y_val)"
   ]
  }
 ],
 "metadata": {
  "anaconda-cloud": {},
  "kernelspec": {
   "display_name": "Python [default]",
   "language": "python",
   "name": "python3"
  },
  "language_info": {
   "codemirror_mode": {
    "name": "ipython",
    "version": 3
   },
   "file_extension": ".py",
   "mimetype": "text/x-python",
   "name": "python",
   "nbconvert_exporter": "python",
   "pygments_lexer": "ipython3",
   "version": "3.5.2"
  }
 },
 "nbformat": 4,
 "nbformat_minor": 0
}
