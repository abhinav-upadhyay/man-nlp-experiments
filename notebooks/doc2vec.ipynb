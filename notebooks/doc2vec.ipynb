{
 "cells": [
  {
   "cell_type": "code",
   "execution_count": 126,
   "metadata": {
    "collapsed": true
   },
   "outputs": [],
   "source": [
    "import gensim\n",
    "import os\n",
    "import collections\n",
    "import random\n",
    "import pandas as pd"
   ]
  },
  {
   "cell_type": "code",
   "execution_count": 128,
   "metadata": {
    "collapsed": true
   },
   "outputs": [],
   "source": [
    "data = pd.read_csv('../data/man.csv.gz', delimiter='\\t', compression='gzip')\n",
    "data.data = data.data.apply(str)"
   ]
  },
  {
   "cell_type": "code",
   "execution_count": 232,
   "metadata": {
    "collapsed": true
   },
   "outputs": [],
   "source": [
    "texts = [[word for word in gensim.utils.simple_preprocess(document)]\n",
    "         for document in data['data']]\n"
   ]
  },
  {
   "cell_type": "code",
   "execution_count": 233,
   "metadata": {
    "collapsed": false
   },
   "outputs": [],
   "source": [
    "docs = []\n",
    "for i, text in enumerate(texts):\n",
    "    docs.append(gensim.models.doc2vec.TaggedDocument(text, [i]))\n",
    "    \n",
    "    "
   ]
  },
  {
   "cell_type": "code",
   "execution_count": 238,
   "metadata": {
    "collapsed": true
   },
   "outputs": [],
   "source": [
    "model = gensim.models.doc2vec.Doc2Vec(size=100, min_count=5, iter=10, workers=4)"
   ]
  },
  {
   "cell_type": "code",
   "execution_count": 239,
   "metadata": {
    "collapsed": false
   },
   "outputs": [],
   "source": [
    "train_corpus = docs\n"
   ]
  },
  {
   "cell_type": "code",
   "execution_count": 240,
   "metadata": {
    "collapsed": false
   },
   "outputs": [],
   "source": [
    "model.build_vocab(train_corpus)"
   ]
  },
  {
   "cell_type": "code",
   "execution_count": 241,
   "metadata": {
    "collapsed": false
   },
   "outputs": [
    {
     "name": "stdout",
     "output_type": "stream",
     "text": [
      "CPU times: user 13min 31s, sys: 712 ms, total: 13min 32s\n",
      "Wall time: 3min 26s\n"
     ]
    },
    {
     "data": {
      "text/plain": [
       "112493020"
      ]
     },
     "execution_count": 241,
     "metadata": {},
     "output_type": "execute_result"
    }
   ],
   "source": [
    "%time model.train(train_corpus)"
   ]
  },
  {
   "cell_type": "code",
   "execution_count": 138,
   "metadata": {
    "collapsed": false
   },
   "outputs": [],
   "source": [
    "def get_index(name):\n",
    "    for i, d in enumerate(train_corpus):\n",
    "        if d.words[0] == name:\n",
    "            return i\n",
    "    return 0\n",
    "\n",
    "ls = get_index('malloc')\n",
    "inferred = model.infer_vector(train_corpus[ls].words)"
   ]
  },
  {
   "cell_type": "code",
   "execution_count": 139,
   "metadata": {
    "collapsed": true
   },
   "outputs": [],
   "source": [
    "sims = model.docvecs.most_similar([inferred], topn=10)"
   ]
  },
  {
   "cell_type": "code",
   "execution_count": 140,
   "metadata": {
    "collapsed": false
   },
   "outputs": [
    {
     "data": {
      "text/plain": [
       "[(2532, 0.7567048668861389),\n",
       " (2652, 0.7403140664100647),\n",
       " (2527, 0.736198365688324),\n",
       " (3142, 0.7285833358764648),\n",
       " (2927, 0.726046085357666),\n",
       " (3428, 0.7226648330688477),\n",
       " (3296, 0.7077306509017944),\n",
       " (2276, 0.6990418434143066),\n",
       " (3125, 0.6801280379295349),\n",
       " (2223, 0.6480376720428467)]"
      ]
     },
     "execution_count": 140,
     "metadata": {},
     "output_type": "execute_result"
    }
   ],
   "source": [
    "sims"
   ]
  },
  {
   "cell_type": "code",
   "execution_count": 323,
   "metadata": {
    "collapsed": false
   },
   "outputs": [],
   "source": [
    "def get_most_similar(name, section=None):\n",
    "    if section is None:\n",
    "        index = np.where(data['name'] == name)[0][0]\n",
    "    else:\n",
    "        index = np.where((data['name'] == name) & (data['section'] == section))[0][0]\n",
    "        \n",
    "    inferred = model.infer_vector(train_corpus[index].words)\n",
    "    sims = model.docvecs.most_similar([inferred], topn=10)\n",
    "    for i,score in sims:\n",
    "        print(data.name.iloc[i], score)\n"
   ]
  },
  {
   "cell_type": "code",
   "execution_count": 329,
   "metadata": {
    "collapsed": false
   },
   "outputs": [
    {
     "name": "stdout",
     "output_type": "stream",
     "text": [
      "ping 0.8317750692367554\n",
      "ping6 0.7819598913192749\n",
      "traceroute 0.6307887434959412\n",
      "rdisc 0.5278071761131287\n",
      "ipsend 0.5260852575302124\n",
      "mtrace 0.525686502456665\n",
      "dhcrelay 0.5218509435653687\n",
      "dhcpcd 0.5140422582626343\n",
      "pcap-filter 0.5051119923591614\n",
      "ifconfig 0.5018467903137207\n"
     ]
    }
   ],
   "source": [
    "get_most_similar('ping')"
   ]
  },
  {
   "cell_type": "code",
   "execution_count": 279,
   "metadata": {
    "collapsed": false
   },
   "outputs": [],
   "source": [
    "def search(query):\n",
    "    inferred = model.infer_vector(gensim.utils.simple_preprocess(query))\n",
    "    sims = model.docvecs.most_similar([inferred], topn=10)\n",
    "    for i,score in sims:\n",
    "        print(data.name.iloc[i], score)\n"
   ]
  },
  {
   "cell_type": "code",
   "execution_count": 285,
   "metadata": {
    "collapsed": false
   },
   "outputs": [
    {
     "name": "stdout",
     "output_type": "stream",
     "text": [
      "VFS_ROOT 0.407088965177536\n",
      "vfsops 0.4043636918067932\n",
      "VFS_NEWVNODE 0.4014365077018738\n",
      "VFS_FHTOVP 0.3968418836593628\n",
      "VFS_SNAPSHOT 0.39564093947410583\n",
      "FcFileIsDir 0.3724491000175476\n",
      "fstrans 0.3722206950187683\n",
      "VFS_QUOTACTL 0.36890166997909546\n",
      "VFS_STATVFS 0.36708885431289673\n",
      "rmextattr 0.36662667989730835\n"
     ]
    }
   ],
   "source": [
    "search('')"
   ]
  },
  {
   "cell_type": "code",
   "execution_count": 330,
   "metadata": {
    "collapsed": true
   },
   "outputs": [],
   "source": [
    "model.save('./man.doc2vec')"
   ]
  },
  {
   "cell_type": "code",
   "execution_count": null,
   "metadata": {
    "collapsed": true
   },
   "outputs": [],
   "source": []
  }
 ],
 "metadata": {
  "kernelspec": {
   "display_name": "Python 3",
   "language": "python",
   "name": "python3"
  },
  "language_info": {
   "codemirror_mode": {
    "name": "ipython",
    "version": 3
   },
   "file_extension": ".py",
   "mimetype": "text/x-python",
   "name": "python",
   "nbconvert_exporter": "python",
   "pygments_lexer": "ipython3",
   "version": "3.5.1"
  }
 },
 "nbformat": 4,
 "nbformat_minor": 0
}
