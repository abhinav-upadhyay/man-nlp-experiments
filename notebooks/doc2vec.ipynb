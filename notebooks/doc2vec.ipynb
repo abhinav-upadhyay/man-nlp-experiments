{
 "cells": [
  {
   "cell_type": "code",
   "execution_count": 61,
   "metadata": {
    "collapsed": true
   },
   "outputs": [],
   "source": [
    "import gensim\n",
    "import os\n",
    "import collections\n",
    "import random\n",
    "import pandas as pd\n",
    "import numpy as np\n",
    "from stemming import porter2"
   ]
  },
  {
   "cell_type": "code",
   "execution_count": 3,
   "metadata": {
    "collapsed": true
   },
   "outputs": [],
   "source": [
    "data = pd.read_csv('/home/abhinav/dev/generate_man_corpus/man.csv', delimiter='\\t')\n",
    "data.data = data.data.apply(str)"
   ]
  },
  {
   "cell_type": "code",
   "execution_count": 2,
   "metadata": {
    "collapsed": true
   },
   "outputs": [],
   "source": [
    "ignore_list = set(['c', 'a.out', 'c++', 'md5', 'sha1', 'sha2', 'sha256', 'sha512', 'rc.d', 'rc.conf', 'man.conf', 'mk.conf'])\n",
    "\n",
    "def remove_special_chars(word):\n",
    "    if word in ignore_list:\n",
    "        return word\n",
    "    \n",
    "    if word[0] == '-':\n",
    "        return word\n",
    "\n",
    "    if '%' in word:\n",
    "        return None\n",
    "    if '^' in word:\n",
    "        return None\n",
    "    if '&' in word:\n",
    "        return None\n",
    "    if '*' in word:\n",
    "        return None\n",
    "    if '[' in word or ']' in word:\n",
    "        return None\n",
    "    if '\\\\' in word:\n",
    "        return None\n",
    "    if '/' in word:\n",
    "        return None\n",
    "    if '|' in word:\n",
    "        return None\n",
    "    if '<' in word or '>' in word:\n",
    "        return None\n",
    "    if '~' in word:\n",
    "        return None\n",
    "    if '@' in word:\n",
    "        return None\n",
    "    if '=' in word:\n",
    "        return None\n",
    "    if '+' in word:\n",
    "        return None\n",
    "    if ':' in word:\n",
    "        return None\n",
    "    if '$' in word:\n",
    "        return None\n",
    "    if '}' in word or '{' in word:\n",
    "        return None\n",
    "\n",
    "\n",
    "    w = word.replace('-', ' ')\n",
    "    w = w.replace('!', '')\n",
    "    w = w.replace('#', '')\n",
    "    w = w.replace('(', '')\n",
    "    w = w.replace(')', '')\n",
    "    w = w.replace(',', ' ')\n",
    "    w = w.replace(';', ' ')\n",
    "    w = w.replace('\"', '')\n",
    "    w = w.replace('`', '')\n",
    "    w = w.replace('1', '')\n",
    "    w = w.replace('2', '')\n",
    "    w = w.replace('3', '')\n",
    "    w = w.replace('4', '')\n",
    "    w = w.replace('5', '')\n",
    "    w = w.replace('6', '')\n",
    "    w = w.replace('7', '')\n",
    "    w = w.replace('8', '')\n",
    "    w = w.replace('9', '')\n",
    "    w = w.replace('0', '')\n",
    "    w = w.replace('?', '')\n",
    "    if '.' in w:\n",
    "        if w[-1] == '.':\n",
    "            w = w.replace('.', '')\n",
    "        else:\n",
    "            w = w.replace('.', ' ')\n",
    "\n",
    "    if \"'\" in w:\n",
    "        if len(w) > 2 and  w[-2] == \"'\" and w[-1] == 's':\n",
    "            w = w[:-2]\n",
    "        elif len(w) > 3 and w[-3] == \"'\" and w[-2] == 'l' and w[-1] == 'l':\n",
    "            w = w[:-3]\n",
    "        w = w.replace(\"'\", '')\n",
    "    return w\n"
   ]
  },
  {
   "cell_type": "code",
   "execution_count": 271,
   "metadata": {
    "collapsed": false
   },
   "outputs": [],
   "source": [
    "otexts = [document for document in data['data']]\n",
    "\n",
    "texts = []\n",
    "for i, document in enumerate(otexts):\n",
    "    texts.append([])\n",
    "    for word in document.split():\n",
    "        r = remove_special_chars(word.lower())\n",
    "        if r is None:\n",
    "            continue\n",
    "        texts[i].append((r))\n"
   ]
  },
  {
   "cell_type": "code",
   "execution_count": 272,
   "metadata": {
    "collapsed": false
   },
   "outputs": [],
   "source": [
    "docs = []\n",
    "for i, text in enumerate(texts):\n",
    "    docs.append(gensim.models.doc2vec.TaggedDocument(text, [i]))\n",
    "    \n",
    "    "
   ]
  },
  {
   "cell_type": "code",
   "execution_count": 317,
   "metadata": {
    "collapsed": true
   },
   "outputs": [],
   "source": [
    "model = gensim.models.doc2vec.Doc2Vec(size=150, min_count=5, iter=25, workers=4, window=8, dm_mean=1, dbow_words=1 )"
   ]
  },
  {
   "cell_type": "code",
   "execution_count": 318,
   "metadata": {
    "collapsed": false
   },
   "outputs": [],
   "source": [
    "train_corpus = docs\n"
   ]
  },
  {
   "cell_type": "code",
   "execution_count": 319,
   "metadata": {
    "collapsed": false
   },
   "outputs": [],
   "source": [
    "model.build_vocab(train_corpus)"
   ]
  },
  {
   "cell_type": "code",
   "execution_count": 320,
   "metadata": {
    "collapsed": false
   },
   "outputs": [
    {
     "name": "stdout",
     "output_type": "stream",
     "text": [
      "CPU times: user 31min 46s, sys: 2.32 s, total: 31min 48s\n",
      "Wall time: 8min 2s\n"
     ]
    },
    {
     "data": {
      "text/plain": [
       "182836775"
      ]
     },
     "execution_count": 320,
     "metadata": {},
     "output_type": "execute_result"
    }
   ],
   "source": [
    "%time model.train(train_corpus)"
   ]
  },
  {
   "cell_type": "code",
   "execution_count": 321,
   "metadata": {
    "collapsed": false
   },
   "outputs": [],
   "source": [
    "def get_most_similar(name, section=None):\n",
    "    if section is None:\n",
    "        index = np.where(data['name'] == name)[0][0]\n",
    "    else:\n",
    "        index = np.where((data['name'] == name) & (data['section'] == section))[0][0]\n",
    "        \n",
    "    inferred = model.infer_vector(train_corpus[index].words)\n",
    "    sims = model.docvecs.most_similar([inferred], topn=10)\n",
    "    for i,score in sims:\n",
    "        print(data.name.iloc[i], score)\n"
   ]
  },
  {
   "cell_type": "code",
   "execution_count": 325,
   "metadata": {
    "collapsed": false
   },
   "outputs": [
    {
     "name": "stdout",
     "output_type": "stream",
     "text": [
      "ls 0.8469443917274475\n",
      "du 0.49439680576324463\n",
      "mtree 0.4322114586830139\n",
      "size 0.41158851981163025\n",
      "readlink 0.40169280767440796\n",
      "fgrep 0.3958299160003662\n",
      "grep 0.3953135311603546\n",
      "stat 0.385476291179657\n",
      "fprintf 0.385062038898468\n",
      "vsnprintf 0.3821207582950592\n"
     ]
    }
   ],
   "source": [
    "get_most_similar('ls')"
   ]
  },
  {
   "cell_type": "code",
   "execution_count": 326,
   "metadata": {
    "collapsed": false
   },
   "outputs": [],
   "source": [
    "def search(query):\n",
    "    inferred = model.infer_vector([(word) for word in query.lower().split()])\n",
    "    sims = model.docvecs.most_similar([inferred], topn=20)\n",
    "    for i,score in sims:\n",
    "        print(data.name.iloc[i], score)\n"
   ]
  },
  {
   "cell_type": "code",
   "execution_count": 334,
   "metadata": {
    "collapsed": false
   },
   "outputs": [
    {
     "name": "stdout",
     "output_type": "stream",
     "text": [
      "csin 0.2766682505607605\n",
      "extattr_list_fd 0.26679831743240356\n",
      "cexpf 0.2654956579208374\n",
      "ohci 0.25898098945617676\n",
      "extattr_delete_link 0.2576597332954407\n",
      "elf_kind 0.25668901205062866\n",
      "extattr_list_file 0.2552754282951355\n",
      "creal 0.2526130676269531\n",
      "extattr_get_link 0.2510366439819336\n",
      "extattr_set_link 0.2505379319190979\n",
      "extattr_delete_fd 0.24676385521888733\n",
      "dofilewritev 0.24390479922294617\n",
      "exit 0.24350549280643463\n",
      "cexp 0.23913246393203735\n",
      "attimer 0.23768705129623413\n",
      "boot 0.23649990558624268\n",
      "closef 0.23555658757686615\n",
      "cbb 0.23534046113491058\n",
      "dofilewrite 0.2342350333929062\n",
      "fdrelease 0.2337464988231659\n"
     ]
    }
   ],
   "source": [
    "search('open file')"
   ]
  },
  {
   "cell_type": "code",
   "execution_count": 330,
   "metadata": {
    "collapsed": true
   },
   "outputs": [],
   "source": [
    "model.save('./man.doc2vec')"
   ]
  },
  {
   "cell_type": "code",
   "execution_count": null,
   "metadata": {
    "collapsed": true
   },
   "outputs": [],
   "source": []
  }
 ],
 "metadata": {
  "kernelspec": {
   "display_name": "Python 3",
   "language": "python",
   "name": "python3"
  },
  "language_info": {
   "codemirror_mode": {
    "name": "ipython",
    "version": 3
   },
   "file_extension": ".py",
   "mimetype": "text/x-python",
   "name": "python",
   "nbconvert_exporter": "python",
   "pygments_lexer": "ipython3",
   "version": "3.5.1"
  }
 },
 "nbformat": 4,
 "nbformat_minor": 0
}
